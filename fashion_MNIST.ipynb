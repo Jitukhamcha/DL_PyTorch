{
  "nbformat": 4,
  "nbformat_minor": 0,
  "metadata": {
    "colab": {
      "name": "fashion-MNIST.ipynb",
      "version": "0.3.2",
      "provenance": [],
      "include_colab_link": true
    },
    "kernelspec": {
      "name": "python3",
      "display_name": "Python 3"
    },
    "accelerator": "GPU"
  },
  "cells": [
    {
      "cell_type": "markdown",
      "metadata": {
        "id": "view-in-github",
        "colab_type": "text"
      },
      "source": [
        "<a href=\"https://colab.research.google.com/github/Jitukhamcha/DL_PyTorch/blob/master/fashion_MNIST.ipynb\" target=\"_parent\"><img src=\"https://colab.research.google.com/assets/colab-badge.svg\" alt=\"Open In Colab\"/></a>"
      ]
    },
    {
      "metadata": {
        "id": "Nq7tv6pZU4bN",
        "colab_type": "code",
        "colab": {}
      },
      "cell_type": "code",
      "source": [
        "import torch, numpy\n",
        "from torch import nn, optim\n",
        "from torchvision import datasets, transforms\n",
        "import torch.nn.functional as F"
      ],
      "execution_count": 0,
      "outputs": []
    },
    {
      "metadata": {
        "id": "JgVowa60U4bd",
        "colab_type": "code",
        "colab": {}
      },
      "cell_type": "code",
      "source": [
        "transform = transforms.Compose([transforms.ToTensor(),\n",
        "                               transforms.Normalize((0.5,0.5,0.5),(0.5,0.5,0.5),)])"
      ],
      "execution_count": 0,
      "outputs": []
    },
    {
      "metadata": {
        "id": "1Y7VK2N2U4bl",
        "colab_type": "code",
        "colab": {
          "base_uri": "https://localhost:8080/",
          "height": 119
        },
        "outputId": "a72d91aa-65cd-469a-fa25-9b69afaed22b"
      },
      "cell_type": "code",
      "source": [
        "trainset = datasets.FashionMNIST('~/.pytorch/F_MNIST_data/', download=True, train=True, transform=transform)\n",
        "trainloader = torch.utils.data.DataLoader(trainset, batch_size=64, shuffle=True)\n",
        "\n",
        "testset = datasets.FashionMNIST('~/.pytorch/F_MNIST_data/', download=True, train=False, transform=transform)\n",
        "testloader = torch.utils.data.DataLoader(testset, batch_size=64, shuffle=True)"
      ],
      "execution_count": 4,
      "outputs": [
        {
          "output_type": "stream",
          "text": [
            "Downloading http://fashion-mnist.s3-website.eu-central-1.amazonaws.com/train-images-idx3-ubyte.gz\n",
            "Downloading http://fashion-mnist.s3-website.eu-central-1.amazonaws.com/train-labels-idx1-ubyte.gz\n",
            "Downloading http://fashion-mnist.s3-website.eu-central-1.amazonaws.com/t10k-images-idx3-ubyte.gz\n",
            "Downloading http://fashion-mnist.s3-website.eu-central-1.amazonaws.com/t10k-labels-idx1-ubyte.gz\n",
            "Processing...\n",
            "Done!\n"
          ],
          "name": "stdout"
        }
      ]
    },
    {
      "metadata": {
        "id": "JZEOUuQIU4bt",
        "colab_type": "code",
        "colab": {}
      },
      "cell_type": "code",
      "source": [
        "data_iter = iter(trainloader)\n",
        "images, labels = data_iter.next()\n",
        "#helper.imshow(images[0,:])"
      ],
      "execution_count": 0,
      "outputs": []
    },
    {
      "metadata": {
        "id": "ppCtxdkWU4b8",
        "colab_type": "code",
        "colab": {}
      },
      "cell_type": "code",
      "source": [
        "# model = nn.Sequential(nn.Linear(784, 256),\n",
        "#                      nn.ReLU(),\n",
        "#                      nn.Linear(256, 128),\n",
        "#                      nn.ReLU(),\n",
        "#                      nn.Linear(128,64),\n",
        "#                      nn.ReLU(),\n",
        "#                      nn.Linear(64, 10),\n",
        "#                      nn.LogSoftmax(dim = 1))\n",
        "\n",
        "class Classifier(nn.Module):\n",
        "    def __init__(self, input_size, output_size, hidden_layers, drop_p):\n",
        "        super().__init__()\n",
        "        \n",
        "        #input to hidden layers\n",
        "        self.hidden_layers = nn.ModuleList([nn.Linear(input_size, hidden_layers[0])])\n",
        "        \n",
        "        #add a variable number of more hidden layer\n",
        "        layer_sizes = zip(hidden_layers[:-1], hidden_layers[1:])\n",
        "        self.hidden_layers.extend([nn.Linear(h1, h2) for h1, h2 in layer_sizes])\n",
        "        \n",
        "        self.output = nn.Linear(hidden_layers[-1], output_size)\n",
        "        \n",
        "        self.dropout = nn.Dropout(p = drop_p)\n",
        "#         self.fc1 = nn.Linear(784, 256)\n",
        "#         self.fc2 = nn.Linear(256, 128)\n",
        "#         self.fc3 = nn.Linear(128, 64)\n",
        "#         self.fc4 = nn.Linear(64, 10)\n",
        "\n",
        "#         # Dropout module with 0.2 drop probability\n",
        "#         self.dropout = nn.Dropout(p=0.2)\n",
        "\n",
        "    def forward(self, x):\n",
        "        \n",
        "        for each in self.hidden_layers:\n",
        "            x = F.relu(each(x))\n",
        "            x = self.dropout(x)\n",
        "        x = self.output(x)\n",
        "        return F.log_softmax(x, dim = 1)\n",
        "#         # make sure input tensor is flattened\n",
        "#         x = x.view(x.shape[0], -1)\n",
        "\n",
        "#         # Now with dropout\n",
        "#         x = self.dropout(F.relu(self.fc1(x)))\n",
        "#         x = self.dropout(F.relu(self.fc2(x)))\n",
        "#         x = self.dropout(F.relu(self.fc3(x)))\n",
        "\n",
        "#         # output so no dropout here\n",
        "#         x = F.log_softmax(self.fc4(x), dim=1)\n",
        "\n",
        "#        return x"
      ],
      "execution_count": 0,
      "outputs": []
    },
    {
      "metadata": {
        "id": "cm31_3HpU4cD",
        "colab_type": "code",
        "colab": {}
      },
      "cell_type": "code",
      "source": [
        "model = Classifier(784, 10, [256, 128, 10], 0.2)\n",
        "criterion = nn.NLLLoss()\n",
        "optimizer = optim.Adam(model.parameters(), lr = 0.003)"
      ],
      "execution_count": 0,
      "outputs": []
    },
    {
      "metadata": {
        "id": "-2JE7PouU4cL",
        "colab_type": "code",
        "colab": {
          "base_uri": "https://localhost:8080/",
          "height": 867
        },
        "outputId": "c0396769-1bbc-4598-e4f3-a74798870e56"
      },
      "cell_type": "code",
      "source": [
        "epochs = 50\n",
        "steps = 0\n",
        "training_losses, testing_losses = [], []\n",
        "for e in range(epochs):\n",
        "    running_loss = 0\n",
        "    for images, labels in trainloader:\n",
        "        images = images.view(images.shape[0], -1)\n",
        "        \n",
        "        optimizer.zero_grad()\n",
        "        \n",
        "        output = model.forward(images)\n",
        "        loss = criterion(output, labels)\n",
        "        loss.backward()\n",
        "        optimizer.step()\n",
        "        \n",
        "        running_loss += loss.item()\n",
        "        \n",
        "    else:\n",
        "        test_loss = 0\n",
        "        accuracy = 0\n",
        "        \n",
        "    #turn off the gradients for validation, saves memory and computations\n",
        "        with torch.no_grad():\n",
        "            for images, labels in testloader:\n",
        "                images = images.view(images.shape[0], -1)\n",
        "                log_ps = model(images)\n",
        "                loss = criterion(log_ps , labels)\n",
        "                test_loss += loss\n",
        "                \n",
        "                ps = torch.exp(log_ps)\n",
        "                top_p, top_class = ps.topk(1, dim = 1)\n",
        "                equals = top_class == labels.view(*top_class.shape)\n",
        "                accuracy += torch.mean(equals.type(torch.FloatTensor)) \n",
        "                \n",
        "            training_losses.append(running_loss/len(trainloader))\n",
        "            testing_losses.append(test_loss/len(testloader))\n",
        "            \n",
        "            print(f'Epoch: {e+1}/{epochs}.. ',\n",
        "              f\"Training Loss: {running_loss/len(trainloader):.3f}.. \",\n",
        "              f\"Test Loss: {test_loss/len(testloader):.3f}.. \",\n",
        "              f\"Test Accuracy: {accuracy/len(testloader):.3f}\")\n",
        "       "
      ],
      "execution_count": 8,
      "outputs": [
        {
          "output_type": "stream",
          "text": [
            "Epoch: 1/50..  Training Loss: 0.799..  Test Loss: 0.688..  Test Accuracy: 0.757\n",
            "Epoch: 2/50..  Training Loss: 0.618..  Test Loss: 0.622..  Test Accuracy: 0.780\n",
            "Epoch: 3/50..  Training Loss: 0.573..  Test Loss: 0.576..  Test Accuracy: 0.800\n",
            "Epoch: 4/50..  Training Loss: 0.539..  Test Loss: 0.567..  Test Accuracy: 0.805\n",
            "Epoch: 5/50..  Training Loss: 0.518..  Test Loss: 0.553..  Test Accuracy: 0.813\n",
            "Epoch: 6/50..  Training Loss: 0.510..  Test Loss: 0.555..  Test Accuracy: 0.806\n",
            "Epoch: 7/50..  Training Loss: 0.494..  Test Loss: 0.576..  Test Accuracy: 0.807\n",
            "Epoch: 8/50..  Training Loss: 0.493..  Test Loss: 0.539..  Test Accuracy: 0.816\n",
            "Epoch: 9/50..  Training Loss: 0.481..  Test Loss: 0.540..  Test Accuracy: 0.818\n",
            "Epoch: 10/50..  Training Loss: 0.475..  Test Loss: 0.565..  Test Accuracy: 0.814\n",
            "Epoch: 11/50..  Training Loss: 0.472..  Test Loss: 0.533..  Test Accuracy: 0.826\n",
            "Epoch: 12/50..  Training Loss: 0.463..  Test Loss: 0.576..  Test Accuracy: 0.812\n",
            "Epoch: 13/50..  Training Loss: 0.460..  Test Loss: 0.548..  Test Accuracy: 0.825\n",
            "Epoch: 14/50..  Training Loss: 0.453..  Test Loss: 0.539..  Test Accuracy: 0.829\n",
            "Epoch: 15/50..  Training Loss: 0.450..  Test Loss: 0.536..  Test Accuracy: 0.824\n",
            "Epoch: 16/50..  Training Loss: 0.451..  Test Loss: 0.522..  Test Accuracy: 0.834\n",
            "Epoch: 17/50..  Training Loss: 0.452..  Test Loss: 0.500..  Test Accuracy: 0.830\n",
            "Epoch: 18/50..  Training Loss: 0.447..  Test Loss: 0.557..  Test Accuracy: 0.824\n",
            "Epoch: 19/50..  Training Loss: 0.442..  Test Loss: 0.539..  Test Accuracy: 0.821\n",
            "Epoch: 20/50..  Training Loss: 0.438..  Test Loss: 0.570..  Test Accuracy: 0.820\n",
            "Epoch: 21/50..  Training Loss: 0.441..  Test Loss: 0.543..  Test Accuracy: 0.831\n",
            "Epoch: 22/50..  Training Loss: 0.430..  Test Loss: 0.559..  Test Accuracy: 0.816\n",
            "Epoch: 23/50..  Training Loss: 0.432..  Test Loss: 0.522..  Test Accuracy: 0.833\n",
            "Epoch: 24/50..  Training Loss: 0.429..  Test Loss: 0.523..  Test Accuracy: 0.822\n",
            "Epoch: 25/50..  Training Loss: 0.427..  Test Loss: 0.542..  Test Accuracy: 0.832\n",
            "Epoch: 26/50..  Training Loss: 0.423..  Test Loss: 0.534..  Test Accuracy: 0.832\n",
            "Epoch: 27/50..  Training Loss: 0.428..  Test Loss: 0.562..  Test Accuracy: 0.829\n",
            "Epoch: 28/50..  Training Loss: 0.419..  Test Loss: 0.540..  Test Accuracy: 0.831\n",
            "Epoch: 29/50..  Training Loss: 0.415..  Test Loss: 0.533..  Test Accuracy: 0.835\n",
            "Epoch: 30/50..  Training Loss: 0.414..  Test Loss: 0.526..  Test Accuracy: 0.832\n",
            "Epoch: 31/50..  Training Loss: 0.412..  Test Loss: 0.524..  Test Accuracy: 0.836\n",
            "Epoch: 32/50..  Training Loss: 0.406..  Test Loss: 0.521..  Test Accuracy: 0.835\n",
            "Epoch: 33/50..  Training Loss: 0.395..  Test Loss: 0.538..  Test Accuracy: 0.838\n",
            "Epoch: 34/50..  Training Loss: 0.404..  Test Loss: 0.549..  Test Accuracy: 0.831\n",
            "Epoch: 35/50..  Training Loss: 0.404..  Test Loss: 0.530..  Test Accuracy: 0.845\n",
            "Epoch: 36/50..  Training Loss: 0.398..  Test Loss: 0.538..  Test Accuracy: 0.832\n",
            "Epoch: 37/50..  Training Loss: 0.400..  Test Loss: 0.533..  Test Accuracy: 0.833\n",
            "Epoch: 38/50..  Training Loss: 0.395..  Test Loss: 0.535..  Test Accuracy: 0.838\n",
            "Epoch: 39/50..  Training Loss: 0.393..  Test Loss: 0.497..  Test Accuracy: 0.846\n",
            "Epoch: 40/50..  Training Loss: 0.386..  Test Loss: 0.528..  Test Accuracy: 0.836\n",
            "Epoch: 41/50..  Training Loss: 0.395..  Test Loss: 0.540..  Test Accuracy: 0.836\n",
            "Epoch: 42/50..  Training Loss: 0.390..  Test Loss: 0.554..  Test Accuracy: 0.836\n",
            "Epoch: 43/50..  Training Loss: 0.387..  Test Loss: 0.561..  Test Accuracy: 0.835\n",
            "Epoch: 44/50..  Training Loss: 0.390..  Test Loss: 0.536..  Test Accuracy: 0.836\n",
            "Epoch: 45/50..  Training Loss: 0.396..  Test Loss: 0.533..  Test Accuracy: 0.843\n",
            "Epoch: 46/50..  Training Loss: 0.381..  Test Loss: 0.537..  Test Accuracy: 0.843\n",
            "Epoch: 47/50..  Training Loss: 0.387..  Test Loss: 0.536..  Test Accuracy: 0.837\n",
            "Epoch: 48/50..  Training Loss: 0.391..  Test Loss: 0.544..  Test Accuracy: 0.837\n",
            "Epoch: 49/50..  Training Loss: 0.376..  Test Loss: 0.545..  Test Accuracy: 0.845\n",
            "Epoch: 50/50..  Training Loss: 0.388..  Test Loss: 0.523..  Test Accuracy: 0.836\n"
          ],
          "name": "stdout"
        }
      ]
    },
    {
      "metadata": {
        "id": "KGOmlB2HU4cW",
        "colab_type": "code",
        "colab": {
          "base_uri": "https://localhost:8080/",
          "height": 282
        },
        "outputId": "304cabef-cc93-494c-e1f6-0583f4ce5e11"
      },
      "cell_type": "code",
      "source": [
        "%matplotlib inline\n",
        "%config InlineBackend.figure_format = 'retina'\n",
        "import matplotlib.pyplot as plt\n",
        "\n",
        "plt.plot(training_losses, label='Training loss')\n",
        "plt.plot(testing_losses, label='Validation loss')\n",
        "plt.legend(frameon=False)"
      ],
      "execution_count": 9,
      "outputs": [
        {
          "output_type": "execute_result",
          "data": {
            "text/plain": [
              "<matplotlib.legend.Legend at 0x7f7619bf1a58>"
            ]
          },
          "metadata": {
            "tags": []
          },
          "execution_count": 9
        },
        {
          "output_type": "display_data",
          "data": {
            "image/png": "[encoded data removed]",
            "text/plain": [
              "<matplotlib.figure.Figure at 0x7f7619d2c5c0>"
            ]
          },
          "metadata": {
            "tags": [],
            "image/png": {
              "width": 370,
              "height": 248
            }
          }
        }
      ]
    },
    {
      "metadata": {
        "id": "jYQGcx9wU4cg",
        "colab_type": "code",
        "colab": {
          "base_uri": "https://localhost:8080/",
          "height": 221
        },
        "outputId": "0272e272-7f06-4793-b97e-eed2a0818b63"
      },
      "cell_type": "code",
      "source": [
        "print(\"our model: \\n\\n\", model, \"\\n\")"
      ],
      "execution_count": 10,
      "outputs": [
        {
          "output_type": "stream",
          "text": [
            "our model: \n",
            "\n",
            " Classifier(\n",
            "  (hidden_layers): ModuleList(\n",
            "    (0): Linear(in_features=784, out_features=256, bias=True)\n",
            "    (1): Linear(in_features=256, out_features=128, bias=True)\n",
            "    (2): Linear(in_features=128, out_features=10, bias=True)\n",
            "  )\n",
            "  (output): Linear(in_features=10, out_features=10, bias=True)\n",
            "  (dropout): Dropout(p=0.2)\n",
            ") \n",
            "\n"
          ],
          "name": "stdout"
        }
      ]
    },
    {
      "metadata": {
        "id": "qyA9QZS9U4cr",
        "colab_type": "code",
        "colab": {
          "base_uri": "https://localhost:8080/",
          "height": 54
        },
        "outputId": "af986863-fe82-4a12-ae45-e84af8f74cfa"
      },
      "cell_type": "code",
      "source": [
        "print(\"the state dict keys : \", model.state_dict().keys())"
      ],
      "execution_count": 11,
      "outputs": [
        {
          "output_type": "stream",
          "text": [
            "the state dict keys :  odict_keys(['hidden_layers.0.weight', 'hidden_layers.0.bias', 'hidden_layers.1.weight', 'hidden_layers.1.bias', 'hidden_layers.2.weight', 'hidden_layers.2.bias', 'output.weight', 'output.bias'])\n"
          ],
          "name": "stdout"
        }
      ]
    },
    {
      "metadata": {
        "id": "zluJJk76U4c1",
        "colab_type": "code",
        "colab": {}
      },
      "cell_type": "code",
      "source": [
        "#saving our network\n",
        "torch.save(model.state_dict(), 'checkpoint.pth')"
      ],
      "execution_count": 0,
      "outputs": []
    },
    {
      "metadata": {
        "id": "lZ4yW3ePU4c_",
        "colab_type": "code",
        "colab": {
          "base_uri": "https://localhost:8080/",
          "height": 54
        },
        "outputId": "427ae47b-52a8-4974-eb41-2115b7403909"
      },
      "cell_type": "code",
      "source": [
        "#load our network\n",
        "state_dict = torch.load('checkpoint.pth')\n",
        "print(state_dict.keys())"
      ],
      "execution_count": 13,
      "outputs": [
        {
          "output_type": "stream",
          "text": [
            "odict_keys(['hidden_layers.0.weight', 'hidden_layers.0.bias', 'hidden_layers.1.weight', 'hidden_layers.1.bias', 'hidden_layers.2.weight', 'hidden_layers.2.bias', 'output.weight', 'output.bias'])\n"
          ],
          "name": "stdout"
        }
      ]
    },
    {
      "metadata": {
        "id": "PPVOgviCU4dK",
        "colab_type": "code",
        "colab": {}
      },
      "cell_type": "code",
      "source": [
        "model.load_state_dict(state_dict)"
      ],
      "execution_count": 0,
      "outputs": []
    },
    {
      "metadata": {
        "id": "t5z5NejlU4dW",
        "colab_type": "code",
        "colab": {}
      },
      "cell_type": "code",
      "source": [
        "# model = Classifier(784, 10, [400, 200, 100])\n",
        "# model.load_state_dict(state_dict)\n",
        "#this will not work as hidden layers are differ from the original one "
      ],
      "execution_count": 0,
      "outputs": []
    },
    {
      "metadata": {
        "id": "zRgBpcKDU4di",
        "colab_type": "code",
        "colab": {}
      },
      "cell_type": "code",
      "source": [
        "checkpoint = {\n",
        "    'input_size': 784,\n",
        "    'output_size': 10,\n",
        "    'hidden_layers':[each.out_features for each in model.hidden_layers],\n",
        "    'drop_p': 0.2,\n",
        "    'state_dict': model.state_dict()\n",
        "}\n",
        "torch.save(checkpoint, \"checkpoint.pth\")"
      ],
      "execution_count": 0,
      "outputs": []
    },
    {
      "metadata": {
        "id": "uA73yAdaU4du",
        "colab_type": "code",
        "colab": {}
      },
      "cell_type": "code",
      "source": [
        "def load_checkpoint(file_path):\n",
        "    checkpoint = torch.load(file_path)\n",
        "    model = Classifier(checkpoint['input_size'],\n",
        "                      checkpoint['output_size'],\n",
        "                      checkpoint['hidden_layers'],\n",
        "                      checkpoint['drop_p'])\n",
        "    model.state_dict(checkpoint['state_dict'])\n",
        "    \n",
        "    return model\n",
        "    "
      ],
      "execution_count": 0,
      "outputs": []
    },
    {
      "metadata": {
        "id": "DbIsYbOrU4d3",
        "colab_type": "code",
        "colab": {
          "base_uri": "https://localhost:8080/",
          "height": 170
        },
        "outputId": "e4465ee3-55fd-4185-fba9-7acf0b64cbc7"
      },
      "cell_type": "code",
      "source": [
        "model = load_checkpoint('checkpoint.pth')\n",
        "print(model)"
      ],
      "execution_count": 18,
      "outputs": [
        {
          "output_type": "stream",
          "text": [
            "Classifier(\n",
            "  (hidden_layers): ModuleList(\n",
            "    (0): Linear(in_features=784, out_features=256, bias=True)\n",
            "    (1): Linear(in_features=256, out_features=128, bias=True)\n",
            "    (2): Linear(in_features=128, out_features=10, bias=True)\n",
            "  )\n",
            "  (output): Linear(in_features=10, out_features=10, bias=True)\n",
            "  (dropout): Dropout(p=0.2)\n",
            ")\n"
          ],
          "name": "stdout"
        }
      ]
    },
    {
      "metadata": {
        "id": "Oo7GlHwLU4eF",
        "colab_type": "code",
        "colab": {}
      },
      "cell_type": "code",
      "source": [
        ""
      ],
      "execution_count": 0,
      "outputs": []
    }
  ]
}